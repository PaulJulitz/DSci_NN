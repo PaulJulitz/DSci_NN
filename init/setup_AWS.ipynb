{
 "cells": [
  {
   "cell_type": "code",
   "execution_count": 1,
   "id": "2fe28f6f-0dc5-48c2-85b5-effd13ff6d89",
   "metadata": {
    "execution": {
     "iopub.execute_input": "2025-06-24T18:47:58.329508Z",
     "iopub.status.busy": "2025-06-24T18:47:58.328930Z",
     "iopub.status.idle": "2025-06-24T18:47:58.333164Z",
     "shell.execute_reply": "2025-06-24T18:47:58.332450Z",
     "shell.execute_reply.started": "2025-06-24T18:47:58.329475Z"
    }
   },
   "outputs": [
    {
     "name": "stdout",
     "output_type": "stream",
     "text": [
      "Hello\n"
     ]
    }
   ],
   "source": [
    "print(\"Hello\")"
   ]
  },
  {
   "cell_type": "code",
   "execution_count": 1,
   "id": "b01ae562-5e8e-4eb8-ad28-de102a1419bf",
   "metadata": {
    "execution": {
     "iopub.execute_input": "2025-06-24T18:48:05.484467Z",
     "iopub.status.busy": "2025-06-24T18:48:05.484216Z",
     "iopub.status.idle": "2025-06-24T18:48:05.492079Z",
     "shell.execute_reply": "2025-06-24T18:48:05.491495Z",
     "shell.execute_reply.started": "2025-06-24T18:48:05.484447Z"
    }
   },
   "outputs": [
    {
     "data": {
      "text/plain": [
       "1638"
      ]
     },
     "execution_count": 1,
     "metadata": {},
     "output_type": "execute_result"
    }
   ],
   "source": [
    "7*234"
   ]
  },
  {
   "cell_type": "code",
   "execution_count": null,
   "id": "5ee2c3e0-fbcd-4d07-a027-16e1dee056e5",
   "metadata": {},
   "outputs": [],
   "source": []
  }
 ],
 "metadata": {
  "kernelspec": {
   "display_name": "Python 3 (ipykernel)",
   "language": "python",
   "name": "python3"
  },
  "language_info": {
   "codemirror_mode": {
    "name": "ipython",
    "version": 3
   },
   "file_extension": ".py",
   "mimetype": "text/x-python",
   "name": "python",
   "nbconvert_exporter": "python",
   "pygments_lexer": "ipython3",
   "version": "3.13.3"
  }
 },
 "nbformat": 4,
 "nbformat_minor": 5
}
